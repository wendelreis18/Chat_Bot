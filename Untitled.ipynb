{
 "cells": [
  {
   "cell_type": "code",
   "execution_count": 1,
   "id": "201124ed",
   "metadata": {},
   "outputs": [
    {
     "name": "stdout",
     "output_type": "stream",
     "text": [
      "\u001b[38;5;2m✔ Download and installation successful\u001b[0m\n",
      "You can now load the package via spacy.load('en_core_web_sm')\n"
     ]
    }
   ],
   "source": [
    "from chatterbot import ChatBot\n",
    "from chatterbot.trainers import ListTrainer\n",
    "\n",
    "# isso aqui só precisa para corrigir o bug\n",
    "from spacy.cli import download\n",
    "\n",
    "download(\"en_core_web_sm\")\n",
    "\n",
    "class ENGSM:\n",
    "    ISO_639_1 = 'en_core_web_sm'"
   ]
  },
  {
   "cell_type": "code",
   "execution_count": null,
   "id": "d57bb60d",
   "metadata": {},
   "outputs": [
    {
     "name": "stdout",
     "output_type": "stream",
     "text": [
      "List Trainer: [####################] 100%\n",
      "Voce: boa dia tudo bem?\n",
      "Bot:  Tudo bem, graças a Deus e com voce?\n",
      "Voce: Estou bem\n",
      "Bot:  O dia esta maravilhoso\n",
      "Voce: realmente esta, temos que agradecer\n",
      "Bot:  O dia esta maravilhoso\n",
      "Voce: tubem?\n",
      "Bot:  O dia esta maravilhoso\n",
      "Voce: tudo bem?\n",
      "Bot:  Tudo bem, graças a Deus e com voce?\n"
     ]
    }
   ],
   "source": [
    "chatbot = ChatBot(\"Bot\", tagger_language=ENGSM)\n",
    "trainer = ListTrainer(chatbot)\n",
    "\n",
    "trainer.train([\n",
    "    'Bom dia, tudo bem?',\n",
    "    'Tudo bem, graças a Deus e com voce?',\n",
    "    'Estou bem tambem, graças a Deus.',\n",
    "    'O dia esta maravilhoso',\n",
    "    'realmente esta, temos que agradecer sempre'\n",
    "])\n",
    "while True:\n",
    "    request = input(\"Voce: \")\n",
    "    response = chatbot.get_response(request)\n",
    "    print(\"Bot: \", response)"
   ]
  },
  {
   "cell_type": "code",
   "execution_count": null,
   "id": "397bd23b",
   "metadata": {},
   "outputs": [],
   "source": []
  },
  {
   "cell_type": "code",
   "execution_count": null,
   "id": "76828986",
   "metadata": {},
   "outputs": [],
   "source": [
    " "
   ]
  },
  {
   "cell_type": "code",
   "execution_count": null,
   "id": "788a7e38",
   "metadata": {},
   "outputs": [],
   "source": []
  }
 ],
 "metadata": {
  "kernelspec": {
   "display_name": "Python 3",
   "language": "python",
   "name": "python3"
  },
  "language_info": {
   "codemirror_mode": {
    "name": "ipython",
    "version": 3
   },
   "file_extension": ".py",
   "mimetype": "text/x-python",
   "name": "python",
   "nbconvert_exporter": "python",
   "pygments_lexer": "ipython3",
   "version": "3.6.13"
  }
 },
 "nbformat": 4,
 "nbformat_minor": 5
}
